{
 "cells": [
  {
   "cell_type": "code",
   "execution_count": null,
   "id": "3d28ec86",
   "metadata": {},
   "outputs": [],
   "source": [
    "#SAMPLE MADLIB\n",
    "# It was ___(FOOD)___ day at school, \n",
    "# and ___(NAME)___ was super ___(ADJECTIVE)___ for lunch. \n",
    "# But when she went outside to eat, \n",
    "# a ___(NOUN)___ stole her ___(FOOD)___! ___(NAME)___ chased the ___(NOUN)___ all over school. \n",
    "# She ___(VERB1)___, ___(VERB2)___, and ___(VERB3)___ through the playground. \n",
    "# Then she tripped on her ___(NOUN)___ and the ___(NOUN)___ escaped! Luckily, ___(NAME)___’s \n",
    "# friends were willing to share their ___(FOOD)___ with her."
   ]
  },
  {
   "cell_type": "code",
   "execution_count": 2,
   "id": "5beeefb5",
   "metadata": {},
   "outputs": [
    {
     "name": "stdout",
     "output_type": "stream",
     "text": [
      "Enter a type of food: ice-cream\n",
      "Enter a name: Ava\n",
      "Enter an adjective: excited\n",
      "Enter a noun: lamp\n",
      "Enter a verb: screamed\n",
      "Enter a verb: cried\n",
      "Enter a verb: ran\n",
      "Enter another noun: bird\n",
      "It was ice-cream day at school, and Ava was super excited for lunch.\n",
      "But when she went outside to eat, \n",
      "a bully stole her ice-cream! Ava chased the bully all over school.\n",
      "She screamed, cried and ran through the playground.\n",
      "Then she tripped on her bird and lamp escaped. Luckily, Ava's friends were willing to share their ice-cream with her.\n"
     ]
    }
   ],
   "source": [
    "food = input(\"Enter a type of food: \")\n",
    "name = input(\"Enter a name: \")\n",
    "adj = input(\"Enter an adjective: \")\n",
    "noun1= input(\"Enter a noun: \")\n",
    "verb1 = input(\"Enter a verb: \")\n",
    "verb2 = input(\"Enter a verb: \")\n",
    "verb3 = input(\"Enter a verb: \")\n",
    "noun2 = input(\"Enter another noun: \")\n",
    "\n",
    "madlib = f'''It was {food} day at school, and {name} was super {adj} for lunch.\n",
    "But when she went outside to eat, \n",
    "a {noun} stole her {food}! {name} chased the {noun} all over school.\n",
    "She {verb1}, {verb2} and {verb3} through the playground.\n",
    "Then she tripped on her {noun2} and {noun1} escaped. Luckily, {name}'s friends were willing to share their {food} with her.'''\n",
    "\n",
    "print(madlib)"
   ]
  }
 ],
 "metadata": {
  "kernelspec": {
   "display_name": "Python 3 (ipykernel)",
   "language": "python",
   "name": "python3"
  },
  "language_info": {
   "codemirror_mode": {
    "name": "ipython",
    "version": 3
   },
   "file_extension": ".py",
   "mimetype": "text/x-python",
   "name": "python",
   "nbconvert_exporter": "python",
   "pygments_lexer": "ipython3",
   "version": "3.10.9"
  }
 },
 "nbformat": 4,
 "nbformat_minor": 5
}
